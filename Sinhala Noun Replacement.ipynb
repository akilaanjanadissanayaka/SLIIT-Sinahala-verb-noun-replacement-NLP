{
 "cells": [
  {
   "cell_type": "code",
   "execution_count": 2,
   "outputs": [],
   "source": [
    "import csv\n",
    "import pandas as pd\n",
    "import sinling\n",
    "from sinling import SinhalaTokenizer, POSTagger, SinhalaStemmer\n",
    "from sinling import SinhalaTokenizer, POSTagger"
   ],
   "metadata": {
    "collapsed": false,
    "ExecuteTime": {
     "end_time": "2023-12-22T09:35:18.913740Z",
     "start_time": "2023-12-22T09:35:15.938728300Z"
    }
   },
   "id": "3dcba3d8a46ef9ac"
  },
  {
   "cell_type": "code",
   "execution_count": 1,
   "outputs": [],
   "source": [
    "def search_verb_index(file_path, sentence):\n",
    "    with open(file_path, mode='r', encoding='utf-8') as csv_file:\n",
    "        csv_reader = csv.reader(csv_file)\n",
    "        header = next(csv_reader)  # Assuming the first row is a header\n",
    "\n",
    "        # Assuming the sentence is in the first column (index 0)\n",
    "        sentence_column_index_1 = 0  # Second column in the CSV file\n",
    "        sentence_column_index_2 = 1  # Third column in the CSV file\n",
    "        replacement_column_index = 2  # Fourth column in the CSV file\n",
    "\n",
    "        # Split the sentence into words\n",
    "        sentence_words = sentence.split()\n",
    "        verb_index = set()\n",
    "\n",
    "        for row in csv_reader:\n",
    "            # Get the words from the CSV columns\n",
    "            csv_column_word_1 = row[sentence_column_index_1]\n",
    "            csv_column_word_2 = row[sentence_column_index_2]\n",
    "            replacement_word = row[replacement_column_index]\n",
    "            \n",
    "            if csv_column_word_2 in sentence_words:\n",
    "                for index, word in enumerate(sentence_words):\n",
    "                    if((index-1)>=0):\n",
    "                        if(csv_column_word_2==word):\n",
    "                            previous_noun = sentence_words[index-1]\n",
    "                            # Add elements to the set\n",
    "                            verb_index.add(index)\n",
    "        \n",
    "        return (verb_index)   "
   ],
   "metadata": {
    "collapsed": false,
    "ExecuteTime": {
     "end_time": "2023-12-22T09:35:15.938728300Z",
     "start_time": "2023-12-22T09:35:15.923114900Z"
    }
   },
   "id": "4a13578a796e3634"
  },
  {
   "cell_type": "code",
   "execution_count": 3,
   "outputs": [
    {
     "name": "stdout",
     "output_type": "stream",
     "text": [
      "{3, 7}\n"
     ]
    }
   ],
   "source": [
    "csv_file_path = 'wsd_irst_attempt.csv'\n",
    "\n",
    "search_sentence = 'අමර ඔතන දදය තබන්න ඉන්පසු ඔබ ගෙදරට යන්න'\n",
    "verbindex=search_verb_index(csv_file_path, search_sentence)\n",
    "print(verbindex)"
   ],
   "metadata": {
    "collapsed": false,
    "ExecuteTime": {
     "end_time": "2023-12-22T09:35:21.121115800Z",
     "start_time": "2023-12-22T09:35:21.105492700Z"
    }
   },
   "id": "c670c763714f9143"
  },
  {
   "cell_type": "code",
   "execution_count": 4,
   "outputs": [],
   "source": [
    "# To find the most closed previous noun for the verb\n",
    "def find_last_noun_before_target(pos_tags, target_index):\n",
    "    last_noun_index = None\n",
    "    for sentence_tags in pos_tags:\n",
    "        for word_index, (word, pos_tag) in enumerate(sentence_tags):\n",
    "            if word_index == target_index:\n",
    "                break\n",
    "            if pos_tag.startswith('NN'):  # Check if the current word is a noun\n",
    "                last_noun_index = word_index\n",
    "    return last_noun_index"
   ],
   "metadata": {
    "collapsed": false,
    "ExecuteTime": {
     "end_time": "2023-12-22T09:36:53.245541Z",
     "start_time": "2023-12-22T09:36:53.229919200Z"
    }
   },
   "id": "36d828a0e9e5c8e"
  },
  {
   "cell_type": "code",
   "execution_count": 7,
   "outputs": [
    {
     "name": "stdout",
     "output_type": "stream",
     "text": [
      "The index of the last noun before the target index is: 6\n"
     ]
    }
   ],
   "source": [
    "from sinling import SinhalaTokenizer, POSTagger\n",
    "# document = 'ඔතන තියෙන දදය ගන්න පසුව පැමිණෙනවා'\n",
    "document = 'අමර ඔතන දදය තබන්න ඉන්පසු ඔබ ගෙදරට යන්න'\n",
    "\n",
    "tokenizer = SinhalaTokenizer()\n",
    "tokenized_sentences = [tokenizer.tokenize(f'{ss}.') for ss in tokenizer.split_sentences(document)]\n",
    "tagger = POSTagger()\n",
    "pos_tags = tagger.predict(tokenized_sentences)\n",
    "\n",
    "\n",
    "\n",
    "# Specify the target index you're interested in (e.g., index 5)\n",
    "target_index = 7\n",
    "result = find_last_noun_before_target(pos_tags, target_index)\n",
    "\n",
    "if result is not None:\n",
    "    print(f\"The index of the last noun before the target index is: {result}\")\n",
    "else:\n",
    "    print(\"No noun found before the target index.\")\n"
   ],
   "metadata": {
    "collapsed": false,
    "ExecuteTime": {
     "end_time": "2023-12-22T09:37:11.769738200Z",
     "start_time": "2023-12-22T09:37:11.707244600Z"
    }
   },
   "id": "b108a50b1abe1e9c"
  },
  {
   "cell_type": "code",
   "execution_count": 12,
   "outputs": [],
   "source": [
    "# Tokenize the document\n",
    "def tokenize_document_and_return_POS_TAG(document):\n",
    "    tokenizer = SinhalaTokenizer()\n",
    "    tokenized_sentences = [tokenizer.tokenize(f'{ss}.') for ss in tokenizer.split_sentences(document)]\n",
    "    tagger = POSTagger()\n",
    "    pos_tags = tagger.predict(tokenized_sentences)\n",
    "    return pos_tags"
   ],
   "metadata": {
    "collapsed": false,
    "ExecuteTime": {
     "end_time": "2023-12-22T09:40:56.903362600Z",
     "start_time": "2023-12-22T09:40:56.895742900Z"
    }
   },
   "id": "ba7b8bc3ab95b690"
  },
  {
   "cell_type": "code",
   "execution_count": 10,
   "outputs": [],
   "source": [
    "#here we are going to replace immediate previous noune\n",
    "def find_replace_noun(file_path, sentence,index):\n",
    "    with open(file_path, mode='r', encoding='utf-8') as csv_file:\n",
    "        csv_reader = csv.reader(csv_file)\n",
    "        header = next(csv_reader)  # Assuming the first row is a header\n",
    "\n",
    "        # Assuming the sentence is in the first column (index 0)\n",
    "        sentence_column_index_1 = 0  # Second column in the CSV file\n",
    "        sentence_column_index_2 = 1  # Third column in the CSV file\n",
    "        replacement_column_index = 2  # Fourth column in the CSV file\n",
    "\n",
    "        updated_sentence = sentence\n",
    "\n",
    "        # Split the sentence into words\n",
    "        sentence_words = sentence.split()\n",
    "        pos_tags =tokenize_document_and_return_POS_TAG(sentence)\n",
    "        result = find_last_noun_before_target(pos_tags, index)\n",
    "        \n",
    "        for row in csv_reader:\n",
    "            # Get the words from the CSV columns\n",
    "            csv_column_word_1 = row[sentence_column_index_1]\n",
    "            csv_column_word_2 = row[sentence_column_index_2]\n",
    "            replacement_word = row[replacement_column_index]\n",
    "            \n",
    "            stemmer = SinhalaStemmer()\n",
    "            stemmed_word = stemmer.stem(sentence_words[result])\n",
    "            first_element = stemmed_word[0]\n",
    "            second_element=stemmed_word[1]\n",
    "            updated_sentence=\"\"\n",
    "            # Check if the words from both columns are in the sentence\n",
    "            \n",
    "            if csv_column_word_1 == sentence_words[result] and csv_column_word_2 == sentence_words[index]:\n",
    "                # print(\"first\")\n",
    "                # print(f\"csv_column_word_1- {csv_column_word_1}\")\n",
    "                # print(f\"sentence_words[result]- {sentence_words[result]}\")\n",
    "                # print(f\"csv_column_word_2- {csv_column_word_2}\")\n",
    "                # print(f\"sentence_words[index]- {sentence_words[index]}\")\n",
    "                updated_sentence = sentence.replace(csv_column_word_1, replacement_word)\n",
    "                return updated_sentence\n",
    "            elif csv_column_word_1 == first_element and csv_column_word_2 == sentence_words[index]:\n",
    "                # print(\"second\")\n",
    "                # print(f\"csv_column_word_1- {csv_column_word_1}\")\n",
    "                # print(f\"sentence_words[result]- {sentence_words[result]}\")\n",
    "                # print(f\"csv_column_word_2- {csv_column_word_2}\")\n",
    "                # print(f\"sentence_words[index]- {sentence_words[index]}\")\n",
    "                # \n",
    "                # print(f\"replacement_word- {replacement_word}\")\n",
    "                # print(f\"second_element- {second_element}\")\n",
    "                new_replacement_word=replacement_word+second_element\n",
    "                # print(f\"new_replacement_word- {new_replacement_word}\")\n",
    "                \n",
    "                updated_sentence = sentence.replace(sentence_words[result], new_replacement_word)\n",
    "                # print(f\"sentence- {sentence}\")\n",
    "                # print(f\"updated_sentence- {updated_sentence}\")\n",
    "                return updated_sentence\n",
    "        return sentence\n"
   ],
   "metadata": {
    "collapsed": false,
    "ExecuteTime": {
     "end_time": "2023-12-22T09:40:47.892371800Z",
     "start_time": "2023-12-22T09:40:47.876709300Z"
    }
   },
   "id": "539e9883e2fc0f4a"
  },
  {
   "cell_type": "code",
   "execution_count": 19,
   "outputs": [
    {
     "name": "stdout",
     "output_type": "stream",
     "text": [
      "previous sentence අමර ඔතන දදය තබන්න ඉන්පසු ඔබ ගෙදරට යන්න\n",
      "final sentence අමර ඔතන දදය තබන්න ඉන්පසු ඔබ නිවසට යන්න\n"
     ]
    }
   ],
   "source": [
    "# Example usage\n",
    "csv_file_path = 'wsd_irst_attempt.csv'\n",
    "\n",
    "# Test Case 1\n",
    "search_sentence = 'අමර ඔතන දදය තබන්න ඉන්පසු ඔබ ගෙදරට යන්න'\n",
    "update=find_replace_noun(csv_file_path, search_sentence,7)\n",
    "# update=find_replace_noun(csv_file_path, search_sentence,2)\n",
    "print(f\"previous sentence {search_sentence}\")\n",
    "print(f\"final sentence {update}\")"
   ],
   "metadata": {
    "collapsed": false,
    "ExecuteTime": {
     "end_time": "2023-12-22T09:42:27.254532Z",
     "start_time": "2023-12-22T09:42:26.612270600Z"
    }
   },
   "id": "95e447b22b431501"
  },
  {
   "cell_type": "code",
   "execution_count": 20,
   "outputs": [
    {
     "name": "stdout",
     "output_type": "stream",
     "text": [
      "1- iteration\n",
      "previous sentence අමර ඔතන දදය තබන්න ඉන්පසු ඔබ ගෙදරට යන්න\n",
      "final sentence අමර ඔතන කොඩිය තබන්න ඉන්පසු ඔබ ගෙදරට යන්න\n",
      "2- iteration\n",
      "previous sentence අමර ඔතන දදය තබන්න ඉන්පසු ඔබ ගෙදරට යන්න\n",
      "final sentence අමර ඔතන කොඩිය තබන්න ඉන්පසු ඔබ නිවසට යන්න\n"
     ]
    }
   ],
   "source": [
    "# Example usage\n",
    "csv_file_path = 'wsd_irst_attempt.csv'\n",
    "\n",
    "search_sentence = 'අමර ඔතන දදය තබන්න ඉන්පසු ඔබ ගෙදරට යන්න'\n",
    "verbindex=search_verb_index(csv_file_path, search_sentence)\n",
    "\n",
    "pos_tags =tokenize_document_and_return_POS_TAG(search_sentence)\n",
    "update_sentence=search_sentence\n",
    "i=1\n",
    "for element in verbindex:\n",
    "    print(f\"{i}- iteration\")\n",
    "    update_sentence=find_replace_noun(csv_file_path, update_sentence,element)\n",
    "    print(f\"previous sentence {search_sentence}\")\n",
    "    print(f\"final sentence {update_sentence}\")\n",
    "    i=i+1"
   ],
   "metadata": {
    "collapsed": false,
    "ExecuteTime": {
     "end_time": "2023-12-22T09:43:14.503112Z",
     "start_time": "2023-12-22T09:43:13.887457600Z"
    }
   },
   "id": "68c23be426eee7e7"
  },
  {
   "cell_type": "markdown",
   "source": [
    "***For testing sections***"
   ],
   "metadata": {
    "collapsed": false
   },
   "id": "ae1b6afb85b833b1"
  },
  {
   "cell_type": "code",
   "execution_count": 21,
   "outputs": [
    {
     "name": "stdout",
     "output_type": "stream",
     "text": [
      "Word: අමර, POS Tag: NNC\n",
      "Word: ඔතන, POS Tag: VP\n",
      "Word: දදය, POS Tag: NNC\n",
      "Word: තබන්න, POS Tag: VNN\n",
      "Word: ඉන්පසු, POS Tag: POST\n",
      "Word: ඔබ, POS Tag: PRP\n",
      "Word: ගෙදරට, POS Tag: NNC\n",
      "Word: යන්න, POS Tag: POST\n",
      "Word: ., POS Tag: FS\n"
     ]
    }
   ],
   "source": [
    "from sinling import SinhalaTokenizer, POSTagger\n",
    "\n",
    "tokenizer = SinhalaTokenizer()\n",
    "\n",
    "document = 'අමර ඔතන දදය තබන්න ඉන්පසු ඔබ ගෙදරට යන්න'  # may contain multiple sentences\n",
    "\n",
    "tokenized_sentences = [tokenizer.tokenize(f'{ss}.') for ss in tokenizer.split_sentences(document)]\n",
    "\n",
    "tagger = POSTagger()\n",
    "\n",
    "pos_tags = tagger.predict(tokenized_sentences)\n",
    "\n",
    "for sentence_tags in pos_tags:\n",
    "    for word, pos_tag in sentence_tags:\n",
    "        print(f\"Word: {word}, POS Tag: {pos_tag}\")\n"
   ],
   "metadata": {
    "collapsed": false,
    "ExecuteTime": {
     "end_time": "2023-12-22T09:43:41.133891200Z",
     "start_time": "2023-12-22T09:43:41.087021600Z"
    }
   },
   "id": "86d919d0f439479f"
  },
  {
   "cell_type": "code",
   "execution_count": 9,
   "outputs": [
    {
     "name": "stdout",
     "output_type": "stream",
     "text": [
      "('ගෙදර', 'ට')\n",
      "First Element: ගෙදර\n",
      "Second Element: ට\n"
     ]
    }
   ],
   "source": [
    "from sinling import SinhalaTokenizer, POSTagger, SinhalaStemmer\n",
    "stemmer = SinhalaStemmer()\n",
    "stemmed_word = stemmer.stem(\"ගෙදරට\")\n",
    "print(stemmed_word)\n",
    "# Accessing the first element\n",
    "first_element = stemmed_word[0]\n",
    "print(\"First Element:\", first_element)\n",
    "\n",
    "# Accessing the second element\n",
    "second_element = stemmed_word[1]\n",
    "print(\"Second Element:\", second_element)"
   ],
   "metadata": {
    "collapsed": false,
    "ExecuteTime": {
     "end_time": "2023-12-22T09:39:03.346262700Z",
     "start_time": "2023-12-22T09:39:03.302713800Z"
    }
   },
   "id": "4c3b1b0bff471e93"
  },
  {
   "cell_type": "code",
   "execution_count": 6,
   "outputs": [],
   "source": [
    "sentence = \"එය දුටු මහ සද්ද නිසා පැමිණි තොටියා,ගං මෝය සිට නැවත තොටුපළට පැමිණියේය. එවිට නිශාචර ජීවි දුටු තොටියා රාත්‍රිය පැමිණියේ බව දැක්කේය.ඉන්පසු අශ්වයකුගේ හේශාරාවය ඇසුනු විගස ඉක්මනට ගොඩට දිව ගියේය.\""
   ],
   "metadata": {
    "collapsed": false,
    "ExecuteTime": {
     "end_time": "2023-11-01T12:51:13.023852300Z",
     "start_time": "2023-11-01T12:51:13.002722400Z"
    }
   },
   "id": "803722f8adfa4f"
  }
 ],
 "metadata": {
  "kernelspec": {
   "display_name": "Python 3",
   "language": "python",
   "name": "python3"
  },
  "language_info": {
   "codemirror_mode": {
    "name": "ipython",
    "version": 2
   },
   "file_extension": ".py",
   "mimetype": "text/x-python",
   "name": "python",
   "nbconvert_exporter": "python",
   "pygments_lexer": "ipython2",
   "version": "2.7.6"
  }
 },
 "nbformat": 4,
 "nbformat_minor": 5
}
