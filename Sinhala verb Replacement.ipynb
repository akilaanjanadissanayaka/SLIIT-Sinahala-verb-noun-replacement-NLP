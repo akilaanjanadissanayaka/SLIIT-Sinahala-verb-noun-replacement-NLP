{
 "cells": [
  {
   "cell_type": "code",
   "execution_count": 29,
   "outputs": [],
   "source": [
    "import csv\n",
    "import pandas as pd\n",
    "import sinling\n",
    "from sinling import SinhalaTokenizer, POSTagger, SinhalaStemmer\n",
    "from sinling import SinhalaTokenizer, POSTagger"
   ],
   "metadata": {
    "collapsed": false,
    "ExecuteTime": {
     "end_time": "2023-12-21T07:02:50.738853900Z",
     "start_time": "2023-12-21T07:02:48.788674200Z"
    }
   },
   "id": "3dcba3d8a46ef9ac"
  },
  {
   "cell_type": "code",
   "execution_count": 12,
   "outputs": [],
   "source": [
    "# To find the most closed previous noun for the verb\n",
    "def find_next_verb_after_target(pos_tags, target_index):\n",
    "    next_verb_index = None\n",
    "    for sentence_tags in pos_tags:\n",
    "        for word_index, (word, pos_tag) in enumerate(sentence_tags):\n",
    "            if word_index > target_index:\n",
    "                if pos_tag.startswith('VFM') or pos_tag.startswith('VP') or pos_tag.startswith('POST') or pos_tag.startswith('VNN'):  \n",
    "                    next_verb_index = word_index\n",
    "                    break\n",
    "    return next_verb_index"
   ],
   "metadata": {
    "collapsed": false,
    "ExecuteTime": {
     "end_time": "2023-12-21T06:50:51.872211400Z",
     "start_time": "2023-12-21T06:50:51.860981400Z"
    }
   },
   "id": "36d828a0e9e5c8e"
  },
  {
   "cell_type": "code",
   "execution_count": 19,
   "outputs": [],
   "source": [
    "# Tokenize the document\n",
    "def tokenize_document_and_return_POS_TAG(document):\n",
    "    tokenizer = SinhalaTokenizer()\n",
    "    tokenized_sentences = [tokenizer.tokenize(f'{ss}.') for ss in tokenizer.split_sentences(document)]\n",
    "    tagger = POSTagger()\n",
    "    pos_tags = tagger.predict(tokenized_sentences)\n",
    "    return pos_tags"
   ],
   "metadata": {
    "collapsed": false,
    "ExecuteTime": {
     "end_time": "2023-12-21T06:52:55.176302800Z",
     "start_time": "2023-12-21T06:52:55.148872Z"
    }
   },
   "id": "2e299ae2d182b9b0"
  },
  {
   "cell_type": "code",
   "execution_count": 33,
   "outputs": [
    {
     "name": "stdout",
     "output_type": "stream",
     "text": [
      "The index of the first noun after the target index is: 7\n"
     ]
    }
   ],
   "source": [
    "from sinling import SinhalaTokenizer, POSTagger\n",
    "# document = 'ඔතන තියෙන දදය ගන්න පසුව පැමිණෙනවා'\n",
    "document = 'අමර ඔතන දදය තබන්න ඉන්පසු ඔබ ගෙදරට යන්න'\n",
    "\n",
    "tokenizer = SinhalaTokenizer()\n",
    "tokenized_sentences = [tokenizer.tokenize(f'{ss}.') for ss in tokenizer.split_sentences(document)]\n",
    "tagger = POSTagger()\n",
    "pos_tags = tokenize_document_and_return_POS_TAG(document)\n",
    "\n",
    "\n",
    "\n",
    "# Specify the target index you're interested in (e.g., index 5)\n",
    "target_index = 6\n",
    "result = find_next_verb_after_target(pos_tags, target_index)\n",
    "\n",
    "if result is not None:\n",
    "    print(f\"The index of the first noun after the target index is: {result}\")\n",
    "else:\n",
    "    print(\"No verb found before the target index.\")\n"
   ],
   "metadata": {
    "collapsed": false,
    "ExecuteTime": {
     "end_time": "2023-12-21T10:54:21.521372800Z",
     "start_time": "2023-12-21T10:54:21.439575700Z"
    }
   },
   "id": "b108a50b1abe1e9c"
  },
  {
   "cell_type": "code",
   "execution_count": 47,
   "outputs": [
    {
     "name": "stdout",
     "output_type": "stream",
     "text": [
      "{6}\n"
     ]
    }
   ],
   "source": [
    "def search_noun_index(file_path, sentence):\n",
    "    with open(file_path, mode='r', encoding='utf-8') as csv_file:\n",
    "        csv_reader = csv.reader(csv_file)\n",
    "        header = next(csv_reader)  # Assuming the first row is a header\n",
    "\n",
    "        # Assuming the sentence is in the first column (index 0)\n",
    "        sentence_column_index_1 = 0  # first column in the CSV file\n",
    "        sentence_column_index_2 = 1  # second column in the CSV file\n",
    "        replacement_column_index = 2  # third column in the CSV file\n",
    "\n",
    "        # Split the sentence into words\n",
    "        sentence_words = sentence.split()\n",
    "        stem_sentence_words=convert_to_stam_wordsList(sentence)\n",
    "        noun_index = set()\n",
    "        x=len(sentence_words)\n",
    "        for row in csv_reader:\n",
    "            # Get the words from the CSV columns\n",
    "            csv_column_word_1 = row[sentence_column_index_1]\n",
    "            csv_column_word_2 = row[sentence_column_index_2]\n",
    "            replacement_word = row[replacement_column_index]\n",
    "            \n",
    "            #check if original word have -- ගෙදරට\n",
    "            if csv_column_word_2 in sentence_words:\n",
    "                for index, word in enumerate(sentence_words):\n",
    "                    if((x-1)>index):\n",
    "                        if(csv_column_word_2==word):\n",
    "                            noun_index.add(index)\n",
    "            #check if stam word have  -- ගෙදර\n",
    "            if csv_column_word_2 in stem_sentence_words:\n",
    "                for index, word in enumerate(stem_sentence_words):\n",
    "                    if((x-1)>index):\n",
    "                        if(csv_column_word_2==word):\n",
    "                            noun_index.add(index)\n",
    "        \n",
    "        return (noun_index)    \n",
    "    \n",
    "# csv_file_path = 'verb_list.csv'\n",
    "# search_sentence = 'අමර ඔතන දදය තබන්න ඉන්පසු ඔබ ගෙදරට යන්න'\n",
    "# verbindex=search_noun_index(csv_file_path, search_sentence)\n",
    "# \n",
    "# print(verbindex)"
   ],
   "metadata": {
    "collapsed": false,
    "ExecuteTime": {
     "end_time": "2023-12-21T11:16:16.555441300Z",
     "start_time": "2023-12-21T11:16:16.516027Z"
    }
   },
   "id": "4f6870ea20341bef"
  },
  {
   "cell_type": "code",
   "execution_count": 48,
   "outputs": [],
   "source": [
    "#normal original words can be not in our db then the stam words can be have then to check both here it convert to stam list also\n",
    "def convert_to_stam_wordsList(sentence_words):\n",
    "    sentence_words = search_sentence.split()\n",
    "    new_sentence_words=[]\n",
    "    stemmer = SinhalaStemmer()\n",
    "    for index, word in enumerate(sentence_words):    \n",
    "        stemmed_word = stemmer.stem(word)\n",
    "        # Accessing the first element\n",
    "        first_element = stemmed_word[0]\n",
    "        new_sentence_words.append(first_element)\n",
    "    return (new_sentence_words)\n"
   ],
   "metadata": {
    "collapsed": false,
    "ExecuteTime": {
     "end_time": "2023-12-21T11:17:42.881732700Z",
     "start_time": "2023-12-21T11:17:42.851513400Z"
    }
   },
   "id": "7ae6d282dc1e461c"
  },
  {
   "cell_type": "code",
   "execution_count": 39,
   "outputs": [
    {
     "name": "stdout",
     "output_type": "stream",
     "text": [
      "['අමර', 'ඔත', 'දද', 'තබ', 'ඉන්පස', 'ඔබ', 'ගෙදර', 'ය']\n"
     ]
    }
   ],
   "source": [
    "search_sentence = 'අමර ඔතන දදය තබන්න ඉන්පසු ඔබ ගෙදරට යන්න'\n",
    "print(convert_to_stam_wordsList(search_sentence))"
   ],
   "metadata": {
    "collapsed": false,
    "ExecuteTime": {
     "end_time": "2023-12-21T11:08:19.264201Z",
     "start_time": "2023-12-21T11:08:19.223972200Z"
    }
   },
   "id": "98b4c105860129f9"
  },
  {
   "cell_type": "code",
   "execution_count": 50,
   "outputs": [],
   "source": [
    "#here we are going to replace next verb\n",
    "def find_replace_verb(file_path, sentence,index):\n",
    "    with open(file_path, mode='r', encoding='utf-8') as csv_file:\n",
    "        csv_reader = csv.reader(csv_file)\n",
    "        header = next(csv_reader)  # Assuming the first row is a header\n",
    "\n",
    "        # Assuming the sentence is in the first column (index 0)\n",
    "        sentence_column_index_1 = 0  # Second column in the CSV file\n",
    "        sentence_column_index_2 = 1  # Third column in the CSV file\n",
    "        replacement_column_index = 2  # Fourth column in the CSV file\n",
    "\n",
    "        updated_sentence = sentence\n",
    "\n",
    "        # Split the sentence into words\n",
    "        sentence_words = sentence.split()\n",
    "        pos_tags =tokenize_document_and_return_POS_TAG(sentence)\n",
    "        result = find_next_verb_after_target(pos_tags, index)\n",
    "        \n",
    "        for row in csv_reader:\n",
    "            # Get the words from the CSV columns\n",
    "            csv_column_word_1 = row[sentence_column_index_1]\n",
    "            csv_column_word_2 = row[sentence_column_index_2]\n",
    "            replacement_word = row[replacement_column_index]\n",
    "            \n",
    "            stemmer = SinhalaStemmer()\n",
    "            stemmed_word = stemmer.stem(sentence_words[index])\n",
    "            first_element = stemmed_word[0]\n",
    "            second_element=stemmed_word[1]\n",
    "            updated_sentence=\"\"\n",
    "            # Check if the words from both columns are in the sentence\n",
    "            \n",
    "            if csv_column_word_1 == sentence_words[result] and csv_column_word_2 == sentence_words[index]:\n",
    "                # print(\"first\")\n",
    "                # print(f\"csv_column_word_1- {csv_column_word_1}\")\n",
    "                # print(f\"sentence_words[result]- {sentence_words[result]}\")\n",
    "                # print(f\"csv_column_word_2- {csv_column_word_2}\")\n",
    "                # print(f\"sentence_words[index]- {sentence_words[index]}\")\n",
    "                updated_sentence = sentence.replace(csv_column_word_1, replacement_word)\n",
    "                return updated_sentence\n",
    "            elif csv_column_word_1 == sentence_words[result] and csv_column_word_2 == first_element:\n",
    "                # print(\"second\")\n",
    "                # print(f\"csv_column_word_1- {csv_column_word_1}\")\n",
    "                # print(f\"sentence_words[result]- {sentence_words[result]}\")\n",
    "                # print(f\"csv_column_word_2- {csv_column_word_2}\")\n",
    "                # print(f\"sentence_words[index]- {sentence_words[index]}\")\n",
    "                # \n",
    "                # print(f\"replacement_word- {replacement_word}\")\n",
    "                # print(f\"second_element- {second_element}\")\n",
    "                new_replacement_word=replacement_word+second_element\n",
    "                # print(f\"new_replacement_word- {new_replacement_word}\")\n",
    "                \n",
    "                updated_sentence = sentence.replace(sentence_words[result], replacement_word)\n",
    "                # print(f\"sentence- {sentence}\")\n",
    "                # print(f\"updated_sentence- {updated_sentence}\")\n",
    "                return updated_sentence\n",
    "        return sentence\n"
   ],
   "metadata": {
    "collapsed": false,
    "ExecuteTime": {
     "end_time": "2023-12-21T11:24:26.145793200Z",
     "start_time": "2023-12-21T11:24:26.114262300Z"
    }
   },
   "id": "539e9883e2fc0f4a"
  },
  {
   "cell_type": "code",
   "execution_count": 55,
   "outputs": [
    {
     "name": "stdout",
     "output_type": "stream",
     "text": [
      "previous sentence අමර ඔතන දදය තබන්න ඉන්පසු ඔබ ගෙදරට යන්න\n",
      "final sentence අමර ඔතන දදය තබන්න ඉන්පසු ඔබ ගෙදරට යනවා\n"
     ]
    }
   ],
   "source": [
    "# Example usage\n",
    "csv_file_path = 'verb_list.csv'\n",
    "\n",
    "# Test Case 1\n",
    "search_sentence = 'අමර ඔතන දදය තබන්න ඉන්පසු ඔබ ගෙදරට යන්න'\n",
    "update=find_replace_verb(csv_file_path, search_sentence,6)\n",
    "print(f\"previous sentence {search_sentence}\")\n",
    "print(f\"final sentence {update}\")"
   ],
   "metadata": {
    "collapsed": false,
    "ExecuteTime": {
     "end_time": "2023-12-21T11:25:25.665393100Z",
     "start_time": "2023-12-21T11:25:25.355982500Z"
    }
   },
   "id": "95e447b22b431501"
  },
  {
   "cell_type": "code",
   "execution_count": 58,
   "outputs": [
    {
     "name": "stdout",
     "output_type": "stream",
     "text": [
      "{2, 6}\n",
      "1- iteration\n",
      "previous sentence අමර ඔතන කොඩිය ගන්න ඉන්පසු ඔබ ගෙදරට යන්න\n",
      "final sentence අමර ඔතන කොඩිය ගන්නවා ඉන්පසු ඔබ ගෙදරට යන්න\n",
      "2- iteration\n",
      "previous sentence අමර ඔතන කොඩිය ගන්න ඉන්පසු ඔබ ගෙදරට යන්න\n",
      "final sentence අමර ඔතන කොඩිය ගන්නවා ඉන්පසු ඔබ ගෙදරට යනවා\n"
     ]
    }
   ],
   "source": [
    "# Example usage\n",
    "csv_file_path = 'verb_list.csv'\n",
    "\n",
    "search_sentence = 'අමර ඔතන කොඩිය ගන්න ඉන්පසු ඔබ ගෙදරට යන්න'\n",
    "verbindex=search_noun_index(csv_file_path, search_sentence)\n",
    "\n",
    "print(verbindex)\n",
    "pos_tags =tokenize_document_and_return_POS_TAG(search_sentence)\n",
    "update_sentence=search_sentence\n",
    "i=1\n",
    "for element in verbindex:\n",
    "    print(f\"{i}- iteration\")\n",
    "    update_sentence=find_replace_verb(csv_file_path, update_sentence,element)\n",
    "    print(f\"previous sentence {search_sentence}\")\n",
    "    print(f\"final sentence {update_sentence}\")\n",
    "    i=i+1"
   ],
   "metadata": {
    "collapsed": false,
    "ExecuteTime": {
     "end_time": "2023-12-21T11:27:38.312803Z",
     "start_time": "2023-12-21T11:27:37.763024500Z"
    }
   },
   "id": "4017c2d04be3a344"
  },
  {
   "cell_type": "markdown",
   "source": [
    "***For testing sections***"
   ],
   "metadata": {
    "collapsed": false
   },
   "id": "ae1b6afb85b833b1"
  },
  {
   "cell_type": "code",
   "execution_count": 6,
   "outputs": [
    {
     "name": "stdout",
     "output_type": "stream",
     "text": [
      "Word: අමර, POS Tag: NNC\n",
      "Word: ඔතන, POS Tag: VP\n",
      "Word: දදය, POS Tag: NNC\n",
      "Word: තබන්න, POS Tag: VNN\n",
      "Word: ඉන්පසු, POS Tag: POST\n",
      "Word: ඔබ, POS Tag: PRP\n",
      "Word: ගෙදරට, POS Tag: NNC\n",
      "Word: යන්න, POS Tag: POST\n",
      "Word: ., POS Tag: FS\n"
     ]
    }
   ],
   "source": [
    "from sinling import SinhalaTokenizer, POSTagger\n",
    "\n",
    "tokenizer = SinhalaTokenizer()\n",
    "\n",
    "document = 'අමර ඔතන දදය තබන්න ඉන්පසු ඔබ ගෙදරට යන්න'  # may contain multiple sentences\n",
    "\n",
    "tokenized_sentences = [tokenizer.tokenize(f'{ss}.') for ss in tokenizer.split_sentences(document)]\n",
    "\n",
    "tagger = POSTagger()\n",
    "\n",
    "pos_tags = tagger.predict(tokenized_sentences)\n",
    "\n",
    "for sentence_tags in pos_tags:\n",
    "    for word, pos_tag in sentence_tags:\n",
    "        print(f\"Word: {word}, POS Tag: {pos_tag}\")\n"
   ],
   "metadata": {
    "collapsed": false,
    "ExecuteTime": {
     "end_time": "2023-12-21T06:46:24.809932800Z",
     "start_time": "2023-12-21T06:46:24.729685500Z"
    }
   },
   "id": "86d919d0f439479f"
  },
  {
   "cell_type": "markdown",
   "source": [
    "VFM,VP.POST"
   ],
   "metadata": {
    "collapsed": false
   },
   "id": "f72e74fe623bfde9"
  },
  {
   "cell_type": "code",
   "execution_count": 34,
   "outputs": [
    {
     "name": "stdout",
     "output_type": "stream",
     "text": [
      "('තබ', 'න්න')\n",
      "First Element: තබ\n",
      "Second Element: න්න\n"
     ]
    }
   ],
   "source": [
    "from sinling import SinhalaTokenizer, POSTagger, SinhalaStemmer\n",
    "stemmer = SinhalaStemmer()\n",
    "stemmed_word = stemmer.stem(\"තබන්න\")\n",
    "print(stemmed_word)\n",
    "# Accessing the first element\n",
    "first_element = stemmed_word[0]\n",
    "print(\"First Element:\", first_element)\n",
    "\n",
    "# Accessing the second element\n",
    "second_element = stemmed_word[1]\n",
    "print(\"Second Element:\", second_element)"
   ],
   "metadata": {
    "collapsed": false,
    "ExecuteTime": {
     "end_time": "2023-12-21T10:55:35.336574900Z",
     "start_time": "2023-12-21T10:55:35.295284900Z"
    }
   },
   "id": "4c3b1b0bff471e93"
  },
  {
   "cell_type": "code",
   "execution_count": 6,
   "outputs": [],
   "source": [
    "sentence = \"එය දුටු මහ සද්ද නිසා පැමිණි තොටියා,ගං මෝය සිට නැවත තොටුපළට පැමිණියේය. එවිට නිශාචර ජීවි දුටු තොටියා රාත්‍රිය පැමිණියේ බව දැක්කේය.ඉන්පසු අශ්වයකුගේ හේශාරාවය ඇසුනු විගස ඉක්මනට ගොඩට දිව ගියේය.\""
   ],
   "metadata": {
    "collapsed": false,
    "ExecuteTime": {
     "end_time": "2023-11-01T12:51:13.023852300Z",
     "start_time": "2023-11-01T12:51:13.002722400Z"
    }
   },
   "id": "803722f8adfa4f"
  }
 ],
 "metadata": {
  "kernelspec": {
   "display_name": "Python 3",
   "language": "python",
   "name": "python3"
  },
  "language_info": {
   "codemirror_mode": {
    "name": "ipython",
    "version": 2
   },
   "file_extension": ".py",
   "mimetype": "text/x-python",
   "name": "python",
   "nbconvert_exporter": "python",
   "pygments_lexer": "ipython2",
   "version": "2.7.6"
  }
 },
 "nbformat": 4,
 "nbformat_minor": 5
}
